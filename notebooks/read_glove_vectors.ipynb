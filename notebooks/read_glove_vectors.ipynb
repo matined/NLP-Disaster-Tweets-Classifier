{
 "cells": [
  {
   "cell_type": "markdown",
   "metadata": {},
   "source": [
    "# Glove Pretrained Word Vectors\n",
    "\n",
    "### Read dictionary of 400k words and pretrained embeddings\n",
    "\n",
    "### Source: https://nlp.stanford.edu/projects/glove/"
   ]
  },
  {
   "cell_type": "markdown",
   "metadata": {},
   "source": [
    "### imports"
   ]
  },
  {
   "cell_type": "code",
   "execution_count": 1,
   "metadata": {},
   "outputs": [],
   "source": [
    "import numpy as np\n",
    "import pickle\n"
   ]
  },
  {
   "cell_type": "markdown",
   "metadata": {},
   "source": [
    "## Read the file"
   ]
  },
  {
   "cell_type": "code",
   "execution_count": 2,
   "metadata": {},
   "outputs": [],
   "source": [
    "with open('../data/gloVe/glove.6B.50d.txt', 'r') as file:\n",
    "    words = set()\n",
    "    word_to_vector = {}\n",
    "    for line in file:\n",
    "        line = line.strip().split()\n",
    "        word = line[0]\n",
    "        words.add(word)\n",
    "        word_to_vector[word] = np.array(line[1:], dtype=np.float32)\n",
    "    \n",
    "    i = 1\n",
    "    words_to_index = {}\n",
    "    index_to_words = {}\n",
    "    for word in sorted(words):\n",
    "        words_to_index[word] = i\n",
    "        index_to_words[i] = word\n",
    "        i += 1\n"
   ]
  },
  {
   "cell_type": "markdown",
   "metadata": {},
   "source": [
    "## Save the dictionaries"
   ]
  },
  {
   "cell_type": "code",
   "execution_count": 3,
   "metadata": {},
   "outputs": [],
   "source": [
    "pickle.dump(word_to_vector, open('../data/dictionary/word_to_vector.pkl', 'wb'))\n",
    "pickle.dump(words_to_index, open('../data/dictionary/words_to_index.pkl', 'wb'))\n",
    "pickle.dump(index_to_words, open('../data/dictionary/index_to_words.pkl', 'wb'))\n"
   ]
  },
  {
   "cell_type": "markdown",
   "metadata": {},
   "source": [
    "## Function that load them"
   ]
  },
  {
   "cell_type": "code",
   "execution_count": 4,
   "metadata": {},
   "outputs": [],
   "source": [
    "def load_dictionary() -> tuple:\n",
    "    word_to_vector = pickle.load(open('../data/dictionary/word_to_vector.pkl', 'rb'))\n",
    "    words_to_index = pickle.load(open('../data/dictionary/words_to_index.pkl', 'rb'))\n",
    "    index_to_words = pickle.load(open('../data/dictionary/index_to_words.pkl', 'rb'))\n",
    "    return word_to_vector, words_to_index, index_to_words"
   ]
  }
 ],
 "metadata": {
  "interpreter": {
   "hash": "83c3081757a6a53448e53aabbbe884a9c48332d6bf2714a43a11ab21be952217"
  },
  "kernelspec": {
   "display_name": "Python 3.9.7 ('tweets')",
   "language": "python",
   "name": "python3"
  },
  "language_info": {
   "codemirror_mode": {
    "name": "ipython",
    "version": 3
   },
   "file_extension": ".py",
   "mimetype": "text/x-python",
   "name": "python",
   "nbconvert_exporter": "python",
   "pygments_lexer": "ipython3",
   "version": "3.9.7"
  },
  "orig_nbformat": 4
 },
 "nbformat": 4,
 "nbformat_minor": 2
}
