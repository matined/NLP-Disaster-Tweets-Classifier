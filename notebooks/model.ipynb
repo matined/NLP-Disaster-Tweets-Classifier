{
 "cells": [
  {
   "cell_type": "markdown",
   "metadata": {},
   "source": [
    "# RNN model with gloVe embeddings"
   ]
  },
  {
   "cell_type": "markdown",
   "metadata": {},
   "source": [
    "### inports"
   ]
  },
  {
   "cell_type": "code",
   "execution_count": 63,
   "metadata": {},
   "outputs": [],
   "source": [
    "import sys\n",
    "import numpy as np\n",
    "import pickle\n",
    "from sklearn.model_selection import train_test_split\n",
    "\n",
    "import tensorflow as tf\n",
    "from tensorflow.keras.layers import Embedding, LSTM, Dropout, Dense, Input\n",
    "\n",
    "sys.path.append('../')\n",
    "from utils import *\n"
   ]
  },
  {
   "cell_type": "markdown",
   "metadata": {},
   "source": [
    "## Load the training input and dictionaries"
   ]
  },
  {
   "cell_type": "code",
   "execution_count": 64,
   "metadata": {},
   "outputs": [],
   "source": [
    "X, y = load_training_input()\n",
    "word_to_vector, words_to_index, index_to_words = load_dictionary()\n",
    "\n",
    "MAX_TWEET_LENGTH = 50\n"
   ]
  },
  {
   "cell_type": "markdown",
   "metadata": {},
   "source": [
    "## Split data"
   ]
  },
  {
   "cell_type": "code",
   "execution_count": 65,
   "metadata": {},
   "outputs": [],
   "source": [
    "X_train, X_test, y_train, y_test = train_test_split(X, y, test_size=0.2, random_state=41)\n"
   ]
  },
  {
   "cell_type": "markdown",
   "metadata": {},
   "source": [
    "### Create an embedding layer with gloVe vectors"
   ]
  },
  {
   "cell_type": "code",
   "execution_count": 68,
   "metadata": {},
   "outputs": [],
   "source": [
    "vocab_size = len(words_to_index) + 1\n",
    "emb_dim = word_to_vector[list(words_to_index.keys())[0]].shape[0]\n",
    "\n",
    "emb_matrix = np.zeros((vocab_size, emb_dim))\n",
    "for word, index in words_to_index.items():\n",
    "    emb_matrix[index, :] = word_to_vector[word]\n",
    "\n",
    "embedding_layer = Embedding(vocab_size, emb_dim, trainable=False)\n",
    "embedding_layer.build((None,))\n",
    "embedding_layer.set_weights([emb_matrix])\n"
   ]
  },
  {
   "cell_type": "markdown",
   "metadata": {},
   "source": [
    "## Tweets Classifier Model"
   ]
  },
  {
   "cell_type": "code",
   "execution_count": 71,
   "metadata": {},
   "outputs": [],
   "source": [
    "def tweetsModel():\n",
    "    inputs = Input(MAX_TWEET_LENGTH, dtype=np.float32)\n",
    "    embeddings = embedding_layer(inputs)\n",
    "\n",
    "    X = LSTM(256, return_sequences=True)(embeddings)\n",
    "    X = Dropout(0.5)(X)\n",
    "\n",
    "    X = LSTM(256, return_sequences=False)(X)\n",
    "    X = Dropout(0.5)(X)\n",
    "\n",
    "    X = Dense(1, activation='softmax')(X)\n",
    "\n",
    "    model = tf.keras.Model(inputs=inputs, outputs=X)\n",
    "    return model\n"
   ]
  },
  {
   "cell_type": "code",
   "execution_count": 73,
   "metadata": {},
   "outputs": [],
   "source": [
    "model = tweetsModel()\n"
   ]
  },
  {
   "cell_type": "code",
   "execution_count": 75,
   "metadata": {},
   "outputs": [
    {
     "name": "stdout",
     "output_type": "stream",
     "text": [
      "Model: \"model_7\"\n",
      "_________________________________________________________________\n",
      "Layer (type)                 Output Shape              Param #   \n",
      "=================================================================\n",
      "input_13 (InputLayer)        [(None, 50)]              0         \n",
      "_________________________________________________________________\n",
      "embedding_9 (Embedding)      (None, 50, 50)            20000100  \n",
      "_________________________________________________________________\n",
      "lstm_18 (LSTM)               (None, 50, 256)           314368    \n",
      "_________________________________________________________________\n",
      "dropout_14 (Dropout)         (None, 50, 256)           0         \n",
      "_________________________________________________________________\n",
      "lstm_19 (LSTM)               (None, 256)               525312    \n",
      "_________________________________________________________________\n",
      "dropout_15 (Dropout)         (None, 256)               0         \n",
      "_________________________________________________________________\n",
      "dense_7 (Dense)              (None, 1)                 257       \n",
      "=================================================================\n",
      "Total params: 20,840,037\n",
      "Trainable params: 839,937\n",
      "Non-trainable params: 20,000,100\n",
      "_________________________________________________________________\n"
     ]
    }
   ],
   "source": [
    "model.summary()\n"
   ]
  },
  {
   "cell_type": "markdown",
   "metadata": {},
   "source": [
    "### Compile"
   ]
  },
  {
   "cell_type": "code",
   "execution_count": 76,
   "metadata": {},
   "outputs": [],
   "source": [
    "model.compile(loss=tf.keras.losses.BinaryCrossentropy(from_logits=True), \n",
    "              optimizer=tf.keras.optimizers.Adam(learning_rate=0.05), \n",
    "              metrics=['accuracy'])\n",
    "              "
   ]
  },
  {
   "cell_type": "markdown",
   "metadata": {},
   "source": [
    "## Train"
   ]
  },
  {
   "cell_type": "code",
   "execution_count": null,
   "metadata": {},
   "outputs": [],
   "source": [
    "history = model.fit(X_train, y_train, batch_size=64, epochs=4)\n"
   ]
  }
 ],
 "metadata": {
  "interpreter": {
   "hash": "83c3081757a6a53448e53aabbbe884a9c48332d6bf2714a43a11ab21be952217"
  },
  "kernelspec": {
   "display_name": "Python 3.9.7 ('tweets')",
   "language": "python",
   "name": "python3"
  },
  "language_info": {
   "codemirror_mode": {
    "name": "ipython",
    "version": 3
   },
   "file_extension": ".py",
   "mimetype": "text/x-python",
   "name": "python",
   "nbconvert_exporter": "python",
   "pygments_lexer": "ipython3",
   "version": "3.9.7"
  },
  "orig_nbformat": 4
 },
 "nbformat": 4,
 "nbformat_minor": 2
}
