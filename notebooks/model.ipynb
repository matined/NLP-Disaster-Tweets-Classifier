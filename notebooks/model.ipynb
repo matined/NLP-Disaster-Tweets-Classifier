{
 "cells": [
  {
   "cell_type": "markdown",
   "metadata": {},
   "source": [
    "# RNN model with gloVe embeddings"
   ]
  },
  {
   "cell_type": "markdown",
   "metadata": {},
   "source": [
    "### inports"
   ]
  },
  {
   "cell_type": "code",
   "execution_count": 35,
   "metadata": {},
   "outputs": [],
   "source": [
    "import sys\n",
    "import numpy as np\n",
    "import pickle\n",
    "from sklearn.model_selection import train_test_split\n",
    "\n",
    "import matplotlib.pyplot as plt\n",
    "\n",
    "import tensorflow as tf\n",
    "from tensorflow.keras.layers import Bidirectional, Embedding, LSTM, Dropout, Dense, Input\n",
    "\n",
    "sys.path.append('../')\n",
    "from utils import *\n"
   ]
  },
  {
   "cell_type": "markdown",
   "metadata": {},
   "source": [
    "## Load the training input and dictionaries"
   ]
  },
  {
   "cell_type": "code",
   "execution_count": 2,
   "metadata": {},
   "outputs": [],
   "source": [
    "X, y = load_training_input()\n",
    "word_to_vector, words_to_index, index_to_words = load_dictionary()\n",
    "\n",
    "MAX_TWEET_LENGTH = 30\n"
   ]
  },
  {
   "cell_type": "markdown",
   "metadata": {},
   "source": [
    "## Split data"
   ]
  },
  {
   "cell_type": "code",
   "execution_count": 3,
   "metadata": {},
   "outputs": [],
   "source": [
    "X_train, X_test, y_train, y_test = train_test_split(X, y, test_size=0.2, random_state=41)\n"
   ]
  },
  {
   "cell_type": "markdown",
   "metadata": {},
   "source": [
    "### Create an embedding layer with gloVe vectors"
   ]
  },
  {
   "cell_type": "code",
   "execution_count": 8,
   "metadata": {},
   "outputs": [],
   "source": [
    "vocab_size = len(words_to_index) + 1\n",
    "emb_dim = word_to_vector[list(words_to_index.keys())[0]].shape[0]\n",
    "\n",
    "emb_matrix = np.zeros((vocab_size, emb_dim))\n",
    "for word, index in words_to_index.items():\n",
    "    emb_matrix[index, :] = word_to_vector[word]\n",
    "\n",
    "embedding_layer = Embedding(vocab_size, emb_dim, trainable=False)\n",
    "embedding_layer.build((None,))\n",
    "embedding_layer.set_weights([emb_matrix])\n"
   ]
  },
  {
   "cell_type": "markdown",
   "metadata": {},
   "source": [
    "## Tweets Classifier Model"
   ]
  },
  {
   "cell_type": "code",
   "execution_count": 9,
   "metadata": {},
   "outputs": [],
   "source": [
    "def tweetsModel():\n",
    "    inputs = Input(MAX_TWEET_LENGTH, dtype=np.float32)\n",
    "    embeddings = embedding_layer(inputs)\n",
    "\n",
    "    X = Bidirectional(LSTM(64, return_sequences=True))(embeddings)\n",
    "    X = Dropout(0.2)(X)\n",
    "\n",
    "    X = Bidirectional(LSTM(64, return_sequences=True))(X)\n",
    "    X = Dropout(0.2)(X)\n",
    "\n",
    "    X = Bidirectional(LSTM(64, return_sequences=True))(embeddings)\n",
    "    X = Dropout(0.2)(X)\n",
    "\n",
    "    X = LSTM(64)(X)\n",
    "    X = Dropout(0.2)(X)\n",
    "\n",
    "    X = Dense(32, activation='relu')(X)\n",
    "    X = Dense(1, activation='sigmoid')(X)\n",
    "\n",
    "    model = tf.keras.Model(inputs=inputs, outputs=X)\n",
    "    return model\n"
   ]
  },
  {
   "cell_type": "code",
   "execution_count": 10,
   "metadata": {},
   "outputs": [],
   "source": [
    "model = tweetsModel()\n"
   ]
  },
  {
   "cell_type": "code",
   "execution_count": 11,
   "metadata": {},
   "outputs": [
    {
     "name": "stdout",
     "output_type": "stream",
     "text": [
      "Model: \"model\"\n",
      "_________________________________________________________________\n",
      "Layer (type)                 Output Shape              Param #   \n",
      "=================================================================\n",
      "input_1 (InputLayer)         [(None, 30)]              0         \n",
      "_________________________________________________________________\n",
      "embedding (Embedding)        (None, 30, 50)            20000100  \n",
      "_________________________________________________________________\n",
      "bidirectional_2 (Bidirection (None, 30, 128)           58880     \n",
      "_________________________________________________________________\n",
      "dropout_2 (Dropout)          (None, 30, 128)           0         \n",
      "_________________________________________________________________\n",
      "lstm_3 (LSTM)                (None, 64)                49408     \n",
      "_________________________________________________________________\n",
      "dropout_3 (Dropout)          (None, 64)                0         \n",
      "_________________________________________________________________\n",
      "dense (Dense)                (None, 32)                2080      \n",
      "_________________________________________________________________\n",
      "dense_1 (Dense)              (None, 1)                 33        \n",
      "=================================================================\n",
      "Total params: 20,110,501\n",
      "Trainable params: 110,401\n",
      "Non-trainable params: 20,000,100\n",
      "_________________________________________________________________\n"
     ]
    }
   ],
   "source": [
    "model.summary()\n"
   ]
  },
  {
   "cell_type": "markdown",
   "metadata": {},
   "source": [
    "### Compile"
   ]
  },
  {
   "cell_type": "code",
   "execution_count": 12,
   "metadata": {},
   "outputs": [],
   "source": [
    "model.compile(loss=tf.keras.losses.BinaryCrossentropy(from_logits=True), \n",
    "              optimizer=tf.keras.optimizers.Adam(), \n",
    "              metrics=['accuracy'])\n",
    "              "
   ]
  },
  {
   "cell_type": "markdown",
   "metadata": {},
   "source": [
    "## Train"
   ]
  },
  {
   "cell_type": "code",
   "execution_count": 27,
   "metadata": {},
   "outputs": [],
   "source": [
    "class myCallbacks(tf.keras.callbacks.Callback):\n",
    "    def on_epoch_end(self, epoch, logs={}):\n",
    "        if(logs.get('accuracy') > 0.99):\n",
    "            print('99% training accuacy reached!')\n",
    "            self.model.stop_training = True\n",
    "\n",
    "callbacks = myCallbacks()"
   ]
  },
  {
   "cell_type": "code",
   "execution_count": 28,
   "metadata": {},
   "outputs": [
    {
     "name": "stdout",
     "output_type": "stream",
     "text": [
      "Epoch 1/100\n",
      "96/96 [==============================] - 28s 286ms/step - loss: 0.1225 - accuracy: 0.9517\n",
      "Epoch 2/100\n",
      "96/96 [==============================] - 28s 289ms/step - loss: 0.1067 - accuracy: 0.9562\n",
      "Epoch 3/100\n",
      "96/96 [==============================] - 29s 298ms/step - loss: 0.1240 - accuracy: 0.9511\n",
      "Epoch 4/100\n",
      "96/96 [==============================] - 28s 292ms/step - loss: 0.1192 - accuracy: 0.9524\n",
      "Epoch 5/100\n",
      "96/96 [==============================] - 27s 282ms/step - loss: 0.0918 - accuracy: 0.9652\n",
      "Epoch 6/100\n",
      "96/96 [==============================] - 26s 270ms/step - loss: 0.0871 - accuracy: 0.9658\n",
      "Epoch 7/100\n",
      "96/96 [==============================] - 27s 281ms/step - loss: 0.0844 - accuracy: 0.9665\n",
      "Epoch 8/100\n",
      "96/96 [==============================] - 33s 339ms/step - loss: 0.1219 - accuracy: 0.9484\n",
      "Epoch 9/100\n",
      "96/96 [==============================] - 37s 382ms/step - loss: 0.0952 - accuracy: 0.9635\n",
      "Epoch 10/100\n",
      "96/96 [==============================] - 31s 325ms/step - loss: 0.0799 - accuracy: 0.9688\n",
      "Epoch 11/100\n",
      "96/96 [==============================] - 33s 343ms/step - loss: 0.0780 - accuracy: 0.9672\n",
      "Epoch 12/100\n",
      "96/96 [==============================] - 35s 362ms/step - loss: 0.0783 - accuracy: 0.9673\n",
      "Epoch 13/100\n",
      "96/96 [==============================] - 32s 338ms/step - loss: 0.0883 - accuracy: 0.9649\n",
      "Epoch 14/100\n",
      "96/96 [==============================] - 31s 322ms/step - loss: 0.0859 - accuracy: 0.9663\n",
      "Epoch 15/100\n",
      "96/96 [==============================] - 31s 321ms/step - loss: 0.0785 - accuracy: 0.9672\n",
      "Epoch 16/100\n",
      "96/96 [==============================] - 31s 328ms/step - loss: 0.0680 - accuracy: 0.9726\n",
      "Epoch 17/100\n",
      "96/96 [==============================] - 32s 334ms/step - loss: 0.0635 - accuracy: 0.9741\n",
      "Epoch 18/100\n",
      "96/96 [==============================] - 32s 338ms/step - loss: 0.0889 - accuracy: 0.9662\n",
      "Epoch 19/100\n",
      "96/96 [==============================] - 28s 285ms/step - loss: 0.0630 - accuracy: 0.9747\n",
      "Epoch 20/100\n",
      "96/96 [==============================] - 28s 294ms/step - loss: 0.0544 - accuracy: 0.9787\n",
      "Epoch 21/100\n",
      "96/96 [==============================] - 24s 247ms/step - loss: 0.0455 - accuracy: 0.9793\n",
      "Epoch 22/100\n",
      "96/96 [==============================] - 26s 273ms/step - loss: 0.0886 - accuracy: 0.9663\n",
      "Epoch 23/100\n",
      "96/96 [==============================] - 25s 256ms/step - loss: 0.0604 - accuracy: 0.9750\n",
      "Epoch 24/100\n",
      "96/96 [==============================] - 24s 245ms/step - loss: 0.0520 - accuracy: 0.9764\n",
      "Epoch 25/100\n",
      "96/96 [==============================] - 27s 279ms/step - loss: 0.0513 - accuracy: 0.9775\n",
      "Epoch 26/100\n",
      "96/96 [==============================] - 26s 274ms/step - loss: 0.0589 - accuracy: 0.9754\n",
      "Epoch 27/100\n",
      "96/96 [==============================] - 24s 254ms/step - loss: 0.0632 - accuracy: 0.9749\n",
      "Epoch 28/100\n",
      "96/96 [==============================] - 20s 206ms/step - loss: 0.0544 - accuracy: 0.9749\n",
      "Epoch 29/100\n",
      "96/96 [==============================] - 24s 251ms/step - loss: 0.0500 - accuracy: 0.9793\n",
      "Epoch 30/100\n",
      "96/96 [==============================] - 22s 224ms/step - loss: 0.0598 - accuracy: 0.9749\n",
      "Epoch 31/100\n",
      "96/96 [==============================] - 18s 187ms/step - loss: 0.0710 - accuracy: 0.9719\n",
      "Epoch 32/100\n",
      "96/96 [==============================] - 17s 180ms/step - loss: 0.0538 - accuracy: 0.9790\n",
      "Epoch 33/100\n",
      "96/96 [==============================] - 23s 240ms/step - loss: 0.0578 - accuracy: 0.9773\n",
      "Epoch 34/100\n",
      "96/96 [==============================] - 26s 272ms/step - loss: 0.0528 - accuracy: 0.9793\n",
      "Epoch 35/100\n",
      "96/96 [==============================] - 22s 225ms/step - loss: 0.0553 - accuracy: 0.9762\n",
      "Epoch 36/100\n",
      "96/96 [==============================] - 22s 230ms/step - loss: 0.0356 - accuracy: 0.9836\n",
      "Epoch 37/100\n",
      "96/96 [==============================] - 20s 211ms/step - loss: 0.0494 - accuracy: 0.9773\n",
      "Epoch 38/100\n",
      "96/96 [==============================] - 23s 240ms/step - loss: 0.0579 - accuracy: 0.9770\n",
      "Epoch 39/100\n",
      "96/96 [==============================] - 31s 323ms/step - loss: 0.0711 - accuracy: 0.9709\n",
      "Epoch 40/100\n",
      "96/96 [==============================] - 16s 168ms/step - loss: 0.0531 - accuracy: 0.9775\n",
      "Epoch 41/100\n",
      "96/96 [==============================] - 24s 247ms/step - loss: 0.0407 - accuracy: 0.9824\n",
      "Epoch 42/100\n",
      "96/96 [==============================] - 20s 209ms/step - loss: 0.0448 - accuracy: 0.9805\n",
      "Epoch 43/100\n",
      "96/96 [==============================] - 22s 226ms/step - loss: 0.0399 - accuracy: 0.9818\n",
      "Epoch 44/100\n",
      "96/96 [==============================] - 22s 225ms/step - loss: 0.0344 - accuracy: 0.9834\n",
      "Epoch 45/100\n",
      "96/96 [==============================] - 24s 251ms/step - loss: 0.0538 - accuracy: 0.9760\n",
      "Epoch 46/100\n",
      "96/96 [==============================] - 22s 232ms/step - loss: 0.1283 - accuracy: 0.9488\n",
      "Epoch 47/100\n",
      "96/96 [==============================] - 22s 225ms/step - loss: 0.0488 - accuracy: 0.9787\n",
      "Epoch 48/100\n",
      "96/96 [==============================] - 20s 210ms/step - loss: 0.0348 - accuracy: 0.9829\n",
      "Epoch 49/100\n",
      "96/96 [==============================] - 20s 211ms/step - loss: 0.0341 - accuracy: 0.9837\n",
      "Epoch 50/100\n",
      "96/96 [==============================] - 24s 250ms/step - loss: 0.0342 - accuracy: 0.9841\n",
      "Epoch 51/100\n",
      "96/96 [==============================] - 24s 249ms/step - loss: 0.0535 - accuracy: 0.9777\n",
      "Epoch 52/100\n",
      "96/96 [==============================] - 20s 209ms/step - loss: 0.0659 - accuracy: 0.9742\n",
      "Epoch 53/100\n",
      "96/96 [==============================] - 24s 244ms/step - loss: 0.0411 - accuracy: 0.9818\n",
      "Epoch 54/100\n",
      "96/96 [==============================] - 31s 323ms/step - loss: 0.0382 - accuracy: 0.9818\n",
      "Epoch 55/100\n",
      "96/96 [==============================] - 28s 289ms/step - loss: 0.0384 - accuracy: 0.9816\n",
      "Epoch 56/100\n",
      "96/96 [==============================] - 22s 229ms/step - loss: 0.0475 - accuracy: 0.9790\n",
      "Epoch 57/100\n",
      "96/96 [==============================] - 17s 180ms/step - loss: 0.0422 - accuracy: 0.9814\n",
      "Epoch 58/100\n",
      "96/96 [==============================] - 20s 207ms/step - loss: 0.0430 - accuracy: 0.9813\n",
      "Epoch 59/100\n",
      "96/96 [==============================] - 22s 227ms/step - loss: 0.0484 - accuracy: 0.9782\n",
      "Epoch 60/100\n",
      "96/96 [==============================] - 24s 248ms/step - loss: 0.0356 - accuracy: 0.9833\n",
      "Epoch 61/100\n",
      "96/96 [==============================] - 21s 214ms/step - loss: 0.0348 - accuracy: 0.9841\n",
      "Epoch 62/100\n",
      "96/96 [==============================] - 18s 183ms/step - loss: 0.0306 - accuracy: 0.9847\n",
      "Epoch 63/100\n",
      "96/96 [==============================] - 19s 200ms/step - loss: 0.0298 - accuracy: 0.9842\n",
      "Epoch 64/100\n",
      "96/96 [==============================] - 21s 223ms/step - loss: 0.0800 - accuracy: 0.9688\n",
      "Epoch 65/100\n",
      "96/96 [==============================] - 24s 246ms/step - loss: 0.0598 - accuracy: 0.9749\n",
      "Epoch 66/100\n",
      "96/96 [==============================] - 23s 236ms/step - loss: 0.0552 - accuracy: 0.9778\n",
      "Epoch 67/100\n",
      "96/96 [==============================] - 19s 194ms/step - loss: 0.0351 - accuracy: 0.9829\n",
      "Epoch 68/100\n",
      "96/96 [==============================] - 22s 229ms/step - loss: 0.0434 - accuracy: 0.9806\n",
      "Epoch 69/100\n",
      "96/96 [==============================] - 22s 232ms/step - loss: 0.0355 - accuracy: 0.9841\n",
      "Epoch 70/100\n",
      "96/96 [==============================] - 20s 209ms/step - loss: 0.0450 - accuracy: 0.9790\n",
      "Epoch 71/100\n",
      "96/96 [==============================] - 20s 211ms/step - loss: 0.0617 - accuracy: 0.9734\n",
      "Epoch 72/100\n",
      "96/96 [==============================] - 20s 208ms/step - loss: 0.0606 - accuracy: 0.9755\n",
      "Epoch 73/100\n",
      "96/96 [==============================] - 18s 188ms/step - loss: 0.0373 - accuracy: 0.9821\n",
      "Epoch 74/100\n",
      "96/96 [==============================] - 18s 183ms/step - loss: 0.0437 - accuracy: 0.9800\n",
      "Epoch 75/100\n",
      "96/96 [==============================] - 23s 234ms/step - loss: 0.0370 - accuracy: 0.9828\n",
      "Epoch 76/100\n",
      "96/96 [==============================] - 23s 241ms/step - loss: 0.0305 - accuracy: 0.9834\n",
      "Epoch 77/100\n",
      "96/96 [==============================] - 25s 264ms/step - loss: 0.0334 - accuracy: 0.9842\n",
      "Epoch 78/100\n",
      "96/96 [==============================] - 20s 213ms/step - loss: 0.0287 - accuracy: 0.9846\n",
      "Epoch 79/100\n",
      "96/96 [==============================] - 22s 232ms/step - loss: 0.0268 - accuracy: 0.9847\n",
      "Epoch 80/100\n",
      "96/96 [==============================] - 19s 198ms/step - loss: 0.0339 - accuracy: 0.9842\n",
      "Epoch 81/100\n",
      "96/96 [==============================] - 24s 244ms/step - loss: 0.0300 - accuracy: 0.9846\n",
      "Epoch 82/100\n",
      "96/96 [==============================] - 24s 250ms/step - loss: 0.0260 - accuracy: 0.9851\n",
      "Epoch 83/100\n",
      "96/96 [==============================] - 21s 216ms/step - loss: 0.0399 - accuracy: 0.9813\n",
      "Epoch 84/100\n",
      "96/96 [==============================] - 22s 231ms/step - loss: 0.0969 - accuracy: 0.9637\n",
      "Epoch 85/100\n",
      "96/96 [==============================] - 15s 159ms/step - loss: 0.0508 - accuracy: 0.9785\n",
      "Epoch 86/100\n",
      "96/96 [==============================] - 19s 197ms/step - loss: 0.0384 - accuracy: 0.9829\n",
      "Epoch 87/100\n",
      "96/96 [==============================] - 21s 221ms/step - loss: 0.0353 - accuracy: 0.9839\n",
      "Epoch 88/100\n",
      "96/96 [==============================] - 21s 219ms/step - loss: 0.0401 - accuracy: 0.9805\n",
      "Epoch 89/100\n",
      "96/96 [==============================] - 22s 232ms/step - loss: 0.0404 - accuracy: 0.9806\n",
      "Epoch 90/100\n",
      "96/96 [==============================] - 23s 240ms/step - loss: 0.0449 - accuracy: 0.9811\n",
      "Epoch 91/100\n",
      "96/96 [==============================] - 22s 229ms/step - loss: 0.0376 - accuracy: 0.9816\n",
      "Epoch 92/100\n",
      "96/96 [==============================] - 21s 219ms/step - loss: 0.0283 - accuracy: 0.9846\n",
      "Epoch 93/100\n",
      "96/96 [==============================] - 21s 214ms/step - loss: 0.0554 - accuracy: 0.9780\n",
      "Epoch 94/100\n",
      "96/96 [==============================] - 23s 239ms/step - loss: 0.0437 - accuracy: 0.9810\n",
      "Epoch 95/100\n",
      "96/96 [==============================] - 22s 224ms/step - loss: 0.0446 - accuracy: 0.9801\n",
      "Epoch 96/100\n",
      "96/96 [==============================] - 19s 195ms/step - loss: 0.0383 - accuracy: 0.9826\n",
      "Epoch 97/100\n",
      "96/96 [==============================] - 21s 217ms/step - loss: 0.0327 - accuracy: 0.9849\n",
      "Epoch 98/100\n",
      "96/96 [==============================] - 21s 222ms/step - loss: 0.0584 - accuracy: 0.9757\n",
      "Epoch 99/100\n",
      "96/96 [==============================] - 20s 205ms/step - loss: 0.0443 - accuracy: 0.9808\n",
      "Epoch 100/100\n",
      "96/96 [==============================] - 21s 222ms/step - loss: 0.0352 - accuracy: 0.9821\n"
     ]
    }
   ],
   "source": [
    "history = model.fit(X_train, y_train, \n",
    "                    batch_size=64, \n",
    "                    epochs=100,\n",
    "                    callbacks=[callbacks])\n"
   ]
  },
  {
   "cell_type": "markdown",
   "metadata": {},
   "source": [
    "## Evaluate on the test set"
   ]
  },
  {
   "cell_type": "code",
   "execution_count": 29,
   "metadata": {},
   "outputs": [
    {
     "name": "stdout",
     "output_type": "stream",
     "text": [
      "48/48 [==============================] - 3s 67ms/step - loss: 1.7461 - accuracy: 0.7269\n"
     ]
    },
    {
     "data": {
      "text/plain": [
       "[1.7460720539093018, 0.7268549203872681]"
      ]
     },
     "execution_count": 29,
     "metadata": {},
     "output_type": "execute_result"
    }
   ],
   "source": [
    "model.evaluate(X_test, y_test)"
   ]
  },
  {
   "cell_type": "markdown",
   "metadata": {},
   "source": [
    "## Plot the learning curves"
   ]
  },
  {
   "cell_type": "code",
   "execution_count": 48,
   "metadata": {},
   "outputs": [
    {
     "data": {
      "text/plain": [
       "[<matplotlib.lines.Line2D at 0x7f1d25652340>]"
      ]
     },
     "execution_count": 48,
     "metadata": {},
     "output_type": "execute_result"
    },
    {
     "data": {
      "image/png": "[encoded data removed]",
      "text/plain": [
       "<Figure size 432x288 with 1 Axes>"
      ]
     },
     "metadata": {
      "needs_background": "light"
     },
     "output_type": "display_data"
    }
   ],
   "source": [
    "plt.xlabel('epochs')\n",
    "plt.xlabel('loss')\n",
    "plt.plot(history.history['loss'])"
   ]
  },
  {
   "cell_type": "markdown",
   "metadata": {},
   "source": [
    "## Save the model"
   ]
  },
  {
   "cell_type": "code",
   "execution_count": 50,
   "metadata": {},
   "outputs": [],
   "source": [
    "model.save('../models/model1.h5')"
   ]
  },
  {
   "cell_type": "markdown",
   "metadata": {},
   "source": [
    "## Load the model and train"
   ]
  },
  {
   "cell_type": "code",
   "execution_count": null,
   "metadata": {},
   "outputs": [],
   "source": [
    "model = tf.keras.models.load_model('../models/model1.h5')"
   ]
  },
  {
   "cell_type": "code",
   "execution_count": null,
   "metadata": {},
   "outputs": [],
   "source": [
    "history = model.fit(X_train, y_train, \n",
    "                    batch_size=64, \n",
    "                    epochs=6)"
   ]
  }
 ],
 "metadata": {
  "interpreter": {
   "hash": "83c3081757a6a53448e53aabbbe884a9c48332d6bf2714a43a11ab21be952217"
  },
  "kernelspec": {
   "display_name": "Python 3.9.7 ('tweets')",
   "language": "python",
   "name": "python3"
  },
  "language_info": {
   "codemirror_mode": {
    "name": "ipython",
    "version": 3
   },
   "file_extension": ".py",
   "mimetype": "text/x-python",
   "name": "python",
   "nbconvert_exporter": "python",
   "pygments_lexer": "ipython3",
   "version": "3.9.7"
  },
  "orig_nbformat": 4
 },
 "nbformat": 4,
 "nbformat_minor": 2
}
